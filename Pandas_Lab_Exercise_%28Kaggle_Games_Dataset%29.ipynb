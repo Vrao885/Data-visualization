{
  "cells": [
    {
      "cell_type": "markdown",
      "metadata": {
        "colab_type": "text",
        "id": "icyqXlNK39aW"
      },
      "source": [
        "# Pandas Lab Exercise - Solutions\n",
        "\n",
        "\n",
        "## Part - 1\n",
        "We shall now test your skills in using Pandas package. We will be using the [games Dataset](https://www.kaggle.com/gutsyrobot/games-data/data) from Kaggle. \n",
        "\n",
        "Answer each question asked below wrt the games dataset."
      ]
    },
    {
      "cell_type": "markdown",
      "metadata": {
        "colab_type": "text",
        "id": "NN-M1l8_39aY"
      },
      "source": [
        "** Import pandas as pd.**"
      ]
    },
    {
      "cell_type": "code",
      "execution_count": 1,
      "metadata": {
        "colab": {},
        "colab_type": "code",
        "id": "24lNC-X439aZ"
      },
      "outputs": [],
      "source": [
        "import pandas as pd \n"
      ]
    },
    {
      "cell_type": "markdown",
      "metadata": {
        "colab_type": "text",
        "id": "q6qomEtr39ad"
      },
      "source": [
        "** Read games.csv as a dataframe called games.**"
      ]
    },
    {
      "cell_type": "code",
      "execution_count": 3,
      "metadata": {
        "colab": {},
        "colab_type": "code",
        "id": "R4gGNY5439ae"
      },
      "outputs": [],
      "source": [
        "games=pd.read_csv(\"C:/Users/vaish/Downloads/games.csv\")"
      ]
    },
    {
      "cell_type": "markdown",
      "metadata": {
        "colab_type": "text",
        "id": "fy6to3cp39ag"
      },
      "source": [
        "** Check the head of the DataFrame. **"
      ]
    },
    {
      "cell_type": "code",
      "execution_count": 5,
      "metadata": {
        "colab": {},
        "colab_type": "code",
        "id": "oSJXg99E39ah"
      },
      "outputs": [
        {
          "data": {
            "text/html": [
              "<div>\n",
              "<style scoped>\n",
              "    .dataframe tbody tr th:only-of-type {\n",
              "        vertical-align: middle;\n",
              "    }\n",
              "\n",
              "    .dataframe tbody tr th {\n",
              "        vertical-align: top;\n",
              "    }\n",
              "\n",
              "    .dataframe thead th {\n",
              "        text-align: right;\n",
              "    }\n",
              "</style>\n",
              "<table border=\"1\" class=\"dataframe\">\n",
              "  <thead>\n",
              "    <tr style=\"text-align: right;\">\n",
              "      <th></th>\n",
              "      <th>id</th>\n",
              "      <th>type</th>\n",
              "      <th>name</th>\n",
              "      <th>yearpublished</th>\n",
              "      <th>minplayers</th>\n",
              "      <th>maxplayers</th>\n",
              "      <th>playingtime</th>\n",
              "      <th>minplaytime</th>\n",
              "      <th>maxplaytime</th>\n",
              "      <th>minage</th>\n",
              "      <th>users_rated</th>\n",
              "      <th>average_rating</th>\n",
              "      <th>bayes_average_rating</th>\n",
              "      <th>total_owners</th>\n",
              "      <th>total_traders</th>\n",
              "      <th>total_wanters</th>\n",
              "      <th>total_wishers</th>\n",
              "      <th>total_comments</th>\n",
              "      <th>total_weights</th>\n",
              "      <th>average_weight</th>\n",
              "    </tr>\n",
              "  </thead>\n",
              "  <tbody>\n",
              "    <tr>\n",
              "      <th>0</th>\n",
              "      <td>12333</td>\n",
              "      <td>boardgame</td>\n",
              "      <td>Twilight Struggle</td>\n",
              "      <td>2005.0</td>\n",
              "      <td>2.0</td>\n",
              "      <td>2.0</td>\n",
              "      <td>180.0</td>\n",
              "      <td>180.0</td>\n",
              "      <td>180.0</td>\n",
              "      <td>13.0</td>\n",
              "      <td>20113</td>\n",
              "      <td>8.33774</td>\n",
              "      <td>8.22186</td>\n",
              "      <td>26647</td>\n",
              "      <td>372</td>\n",
              "      <td>1219</td>\n",
              "      <td>5865</td>\n",
              "      <td>5347</td>\n",
              "      <td>2562</td>\n",
              "      <td>3.4785</td>\n",
              "    </tr>\n",
              "    <tr>\n",
              "      <th>1</th>\n",
              "      <td>120677</td>\n",
              "      <td>boardgame</td>\n",
              "      <td>Terra Mystica</td>\n",
              "      <td>2012.0</td>\n",
              "      <td>2.0</td>\n",
              "      <td>5.0</td>\n",
              "      <td>150.0</td>\n",
              "      <td>60.0</td>\n",
              "      <td>150.0</td>\n",
              "      <td>12.0</td>\n",
              "      <td>14383</td>\n",
              "      <td>8.28798</td>\n",
              "      <td>8.14232</td>\n",
              "      <td>16519</td>\n",
              "      <td>132</td>\n",
              "      <td>1586</td>\n",
              "      <td>6277</td>\n",
              "      <td>2526</td>\n",
              "      <td>1423</td>\n",
              "      <td>3.8939</td>\n",
              "    </tr>\n",
              "    <tr>\n",
              "      <th>2</th>\n",
              "      <td>102794</td>\n",
              "      <td>boardgame</td>\n",
              "      <td>Caverna: The Cave Farmers</td>\n",
              "      <td>2013.0</td>\n",
              "      <td>1.0</td>\n",
              "      <td>7.0</td>\n",
              "      <td>210.0</td>\n",
              "      <td>30.0</td>\n",
              "      <td>210.0</td>\n",
              "      <td>12.0</td>\n",
              "      <td>9262</td>\n",
              "      <td>8.28994</td>\n",
              "      <td>8.06886</td>\n",
              "      <td>12230</td>\n",
              "      <td>99</td>\n",
              "      <td>1476</td>\n",
              "      <td>5600</td>\n",
              "      <td>1700</td>\n",
              "      <td>777</td>\n",
              "      <td>3.7761</td>\n",
              "    </tr>\n",
              "    <tr>\n",
              "      <th>3</th>\n",
              "      <td>25613</td>\n",
              "      <td>boardgame</td>\n",
              "      <td>Through the Ages: A Story of Civilization</td>\n",
              "      <td>2006.0</td>\n",
              "      <td>2.0</td>\n",
              "      <td>4.0</td>\n",
              "      <td>240.0</td>\n",
              "      <td>240.0</td>\n",
              "      <td>240.0</td>\n",
              "      <td>12.0</td>\n",
              "      <td>13294</td>\n",
              "      <td>8.20407</td>\n",
              "      <td>8.05804</td>\n",
              "      <td>14343</td>\n",
              "      <td>362</td>\n",
              "      <td>1084</td>\n",
              "      <td>5075</td>\n",
              "      <td>3378</td>\n",
              "      <td>1642</td>\n",
              "      <td>4.1590</td>\n",
              "    </tr>\n",
              "    <tr>\n",
              "      <th>4</th>\n",
              "      <td>3076</td>\n",
              "      <td>boardgame</td>\n",
              "      <td>Puerto Rico</td>\n",
              "      <td>2002.0</td>\n",
              "      <td>2.0</td>\n",
              "      <td>5.0</td>\n",
              "      <td>150.0</td>\n",
              "      <td>90.0</td>\n",
              "      <td>150.0</td>\n",
              "      <td>12.0</td>\n",
              "      <td>39883</td>\n",
              "      <td>8.14261</td>\n",
              "      <td>8.04524</td>\n",
              "      <td>44362</td>\n",
              "      <td>795</td>\n",
              "      <td>861</td>\n",
              "      <td>5414</td>\n",
              "      <td>9173</td>\n",
              "      <td>5213</td>\n",
              "      <td>3.2943</td>\n",
              "    </tr>\n",
              "  </tbody>\n",
              "</table>\n",
              "</div>"
            ],
            "text/plain": [
              "       id       type                                       name  \\\n",
              "0   12333  boardgame                          Twilight Struggle   \n",
              "1  120677  boardgame                              Terra Mystica   \n",
              "2  102794  boardgame                  Caverna: The Cave Farmers   \n",
              "3   25613  boardgame  Through the Ages: A Story of Civilization   \n",
              "4    3076  boardgame                                Puerto Rico   \n",
              "\n",
              "   yearpublished  minplayers  maxplayers  playingtime  minplaytime  \\\n",
              "0         2005.0         2.0         2.0        180.0        180.0   \n",
              "1         2012.0         2.0         5.0        150.0         60.0   \n",
              "2         2013.0         1.0         7.0        210.0         30.0   \n",
              "3         2006.0         2.0         4.0        240.0        240.0   \n",
              "4         2002.0         2.0         5.0        150.0         90.0   \n",
              "\n",
              "   maxplaytime  minage  users_rated  average_rating  bayes_average_rating  \\\n",
              "0        180.0    13.0        20113         8.33774               8.22186   \n",
              "1        150.0    12.0        14383         8.28798               8.14232   \n",
              "2        210.0    12.0         9262         8.28994               8.06886   \n",
              "3        240.0    12.0        13294         8.20407               8.05804   \n",
              "4        150.0    12.0        39883         8.14261               8.04524   \n",
              "\n",
              "   total_owners  total_traders  total_wanters  total_wishers  total_comments  \\\n",
              "0         26647            372           1219           5865            5347   \n",
              "1         16519            132           1586           6277            2526   \n",
              "2         12230             99           1476           5600            1700   \n",
              "3         14343            362           1084           5075            3378   \n",
              "4         44362            795            861           5414            9173   \n",
              "\n",
              "   total_weights  average_weight  \n",
              "0           2562          3.4785  \n",
              "1           1423          3.8939  \n",
              "2            777          3.7761  \n",
              "3           1642          4.1590  \n",
              "4           5213          3.2943  "
            ]
          },
          "execution_count": 5,
          "metadata": {},
          "output_type": "execute_result"
        }
      ],
      "source": [
        "games.head()"
      ]
    },
    {
      "cell_type": "markdown",
      "metadata": {
        "colab_type": "text",
        "id": "kchMeESY39aj"
      },
      "source": [
        "** Use .info() method to find out total number of entries in dataset**"
      ]
    },
    {
      "cell_type": "code",
      "execution_count": 6,
      "metadata": {
        "colab": {},
        "colab_type": "code",
        "id": "vqw0iuHE39aj"
      },
      "outputs": [
        {
          "name": "stdout",
          "output_type": "stream",
          "text": [
            "<class 'pandas.core.frame.DataFrame'>\n",
            "RangeIndex: 81312 entries, 0 to 81311\n",
            "Data columns (total 20 columns):\n",
            " #   Column                Non-Null Count  Dtype  \n",
            "---  ------                --------------  -----  \n",
            " 0   id                    81312 non-null  int64  \n",
            " 1   type                  81312 non-null  object \n",
            " 2   name                  81271 non-null  object \n",
            " 3   yearpublished         81309 non-null  float64\n",
            " 4   minplayers            81309 non-null  float64\n",
            " 5   maxplayers            81309 non-null  float64\n",
            " 6   playingtime           81309 non-null  float64\n",
            " 7   minplaytime           81309 non-null  float64\n",
            " 8   maxplaytime           81309 non-null  float64\n",
            " 9   minage                81309 non-null  float64\n",
            " 10  users_rated           81312 non-null  int64  \n",
            " 11  average_rating        81312 non-null  float64\n",
            " 12  bayes_average_rating  81312 non-null  float64\n",
            " 13  total_owners          81312 non-null  int64  \n",
            " 14  total_traders         81312 non-null  int64  \n",
            " 15  total_wanters         81312 non-null  int64  \n",
            " 16  total_wishers         81312 non-null  int64  \n",
            " 17  total_comments        81312 non-null  int64  \n",
            " 18  total_weights         81312 non-null  int64  \n",
            " 19  average_weight        81312 non-null  float64\n",
            "dtypes: float64(10), int64(8), object(2)\n",
            "memory usage: 12.4+ MB\n"
          ]
        }
      ],
      "source": [
        "games.info()"
      ]
    },
    {
      "cell_type": "markdown",
      "metadata": {
        "colab_type": "text",
        "id": "pb_jcBlV39al"
      },
      "source": [
        "**What is the mean playin time for all games put together ?**"
      ]
    },
    {
      "cell_type": "code",
      "execution_count": 7,
      "metadata": {
        "colab": {},
        "colab_type": "code",
        "id": "VlUtAjms39am"
      },
      "outputs": [
        {
          "data": {
            "text/plain": [
              "51.63478827682052"
            ]
          },
          "execution_count": 7,
          "metadata": {},
          "output_type": "execute_result"
        }
      ],
      "source": [
        "games[\"playingtime\"].mean()"
      ]
    },
    {
      "cell_type": "markdown",
      "metadata": {
        "colab_type": "text",
        "id": "88dyU2NZ39ao"
      },
      "source": [
        "** What is the highest number of comments received for a game? **"
      ]
    },
    {
      "cell_type": "code",
      "execution_count": 8,
      "metadata": {
        "colab": {},
        "colab_type": "code",
        "id": "dsFCrv6B39ap"
      },
      "outputs": [
        {
          "data": {
            "text/plain": [
              "11798"
            ]
          },
          "execution_count": 8,
          "metadata": {},
          "output_type": "execute_result"
        }
      ],
      "source": [
        "games[\"total_comments\"].max()"
      ]
    },
    {
      "cell_type": "markdown",
      "metadata": {
        "colab_type": "text",
        "id": "iZ5r64Vl39ar"
      },
      "source": [
        "** What is the name of the game with id 1500?  **"
      ]
    },
    {
      "cell_type": "code",
      "execution_count": 12,
      "metadata": {
        "colab": {},
        "colab_type": "code",
        "id": "q-pHJCzG39as"
      },
      "outputs": [
        {
          "data": {
            "text/plain": [
              "10592    boardgame\n",
              "Name: type, dtype: object"
            ]
          },
          "execution_count": 12,
          "metadata": {},
          "output_type": "execute_result"
        }
      ],
      "source": [
        "games[games[\"id\"]==1500][\"type\"]"
      ]
    },
    {
      "cell_type": "markdown",
      "metadata": {
        "colab_type": "text",
        "id": "VXo7npwp39av"
      },
      "source": [
        "** And which year was it published? **"
      ]
    },
    {
      "cell_type": "code",
      "execution_count": 13,
      "metadata": {
        "colab": {},
        "colab_type": "code",
        "id": "u3curcuE39av"
      },
      "outputs": [
        {
          "data": {
            "text/plain": [
              "10592    1999.0\n",
              "Name: yearpublished, dtype: float64"
            ]
          },
          "execution_count": 13,
          "metadata": {},
          "output_type": "execute_result"
        }
      ],
      "source": [
        "games[games[\"id\"]==1500][\"yearpublished\"]"
      ]
    },
    {
      "cell_type": "markdown",
      "metadata": {
        "colab_type": "text",
        "id": "y3WAIIVq39ay"
      },
      "source": [
        "** Which game has received highest number of comments? **"
      ]
    },
    {
      "cell_type": "code",
      "execution_count": 16,
      "metadata": {
        "colab": {},
        "colab_type": "code",
        "id": "LLR53F5E39az"
      },
      "outputs": [
        {
          "data": {
            "text/html": [
              "<div>\n",
              "<style scoped>\n",
              "    .dataframe tbody tr th:only-of-type {\n",
              "        vertical-align: middle;\n",
              "    }\n",
              "\n",
              "    .dataframe tbody tr th {\n",
              "        vertical-align: top;\n",
              "    }\n",
              "\n",
              "    .dataframe thead th {\n",
              "        text-align: right;\n",
              "    }\n",
              "</style>\n",
              "<table border=\"1\" class=\"dataframe\">\n",
              "  <thead>\n",
              "    <tr style=\"text-align: right;\">\n",
              "      <th></th>\n",
              "      <th>id</th>\n",
              "      <th>type</th>\n",
              "      <th>name</th>\n",
              "      <th>yearpublished</th>\n",
              "      <th>minplayers</th>\n",
              "      <th>maxplayers</th>\n",
              "      <th>playingtime</th>\n",
              "      <th>minplaytime</th>\n",
              "      <th>maxplaytime</th>\n",
              "      <th>minage</th>\n",
              "      <th>users_rated</th>\n",
              "      <th>average_rating</th>\n",
              "      <th>bayes_average_rating</th>\n",
              "      <th>total_owners</th>\n",
              "      <th>total_traders</th>\n",
              "      <th>total_wanters</th>\n",
              "      <th>total_wishers</th>\n",
              "      <th>total_comments</th>\n",
              "      <th>total_weights</th>\n",
              "      <th>average_weight</th>\n",
              "    </tr>\n",
              "  </thead>\n",
              "  <tbody>\n",
              "    <tr>\n",
              "      <th>165</th>\n",
              "      <td>13</td>\n",
              "      <td>boardgame</td>\n",
              "      <td>Catan</td>\n",
              "      <td>1995.0</td>\n",
              "      <td>3.0</td>\n",
              "      <td>4.0</td>\n",
              "      <td>90.0</td>\n",
              "      <td>90.0</td>\n",
              "      <td>90.0</td>\n",
              "      <td>10.0</td>\n",
              "      <td>53680</td>\n",
              "      <td>7.34303</td>\n",
              "      <td>7.21171</td>\n",
              "      <td>73188</td>\n",
              "      <td>1071</td>\n",
              "      <td>391</td>\n",
              "      <td>3201</td>\n",
              "      <td>11798</td>\n",
              "      <td>5996</td>\n",
              "      <td>2.3712</td>\n",
              "    </tr>\n",
              "    <tr>\n",
              "      <th>1965</th>\n",
              "      <td>13</td>\n",
              "      <td>boardgame</td>\n",
              "      <td>Catan</td>\n",
              "      <td>1995.0</td>\n",
              "      <td>3.0</td>\n",
              "      <td>4.0</td>\n",
              "      <td>90.0</td>\n",
              "      <td>90.0</td>\n",
              "      <td>90.0</td>\n",
              "      <td>10.0</td>\n",
              "      <td>53680</td>\n",
              "      <td>7.34303</td>\n",
              "      <td>7.21171</td>\n",
              "      <td>73188</td>\n",
              "      <td>1071</td>\n",
              "      <td>391</td>\n",
              "      <td>3201</td>\n",
              "      <td>11798</td>\n",
              "      <td>5996</td>\n",
              "      <td>2.3712</td>\n",
              "    </tr>\n",
              "  </tbody>\n",
              "</table>\n",
              "</div>"
            ],
            "text/plain": [
              "      id       type   name  yearpublished  minplayers  maxplayers  \\\n",
              "165   13  boardgame  Catan         1995.0         3.0         4.0   \n",
              "1965  13  boardgame  Catan         1995.0         3.0         4.0   \n",
              "\n",
              "      playingtime  minplaytime  maxplaytime  minage  users_rated  \\\n",
              "165          90.0         90.0         90.0    10.0        53680   \n",
              "1965         90.0         90.0         90.0    10.0        53680   \n",
              "\n",
              "      average_rating  bayes_average_rating  total_owners  total_traders  \\\n",
              "165          7.34303               7.21171         73188           1071   \n",
              "1965         7.34303               7.21171         73188           1071   \n",
              "\n",
              "      total_wanters  total_wishers  total_comments  total_weights  \\\n",
              "165             391           3201           11798           5996   \n",
              "1965            391           3201           11798           5996   \n",
              "\n",
              "      average_weight  \n",
              "165           2.3712  \n",
              "1965          2.3712  "
            ]
          },
          "execution_count": 16,
          "metadata": {},
          "output_type": "execute_result"
        }
      ],
      "source": [
        "games[games[\"total_comments\"]==games[\"total_comments\"].max()]    "
      ]
    },
    {
      "cell_type": "markdown",
      "metadata": {
        "colab_type": "text",
        "id": "ADSNSu7539a1"
      },
      "source": [
        "** Which games have received least number of comments? **"
      ]
    },
    {
      "cell_type": "code",
      "execution_count": 17,
      "metadata": {
        "colab": {},
        "colab_type": "code",
        "id": "4C2ICmLZ39a2"
      },
      "outputs": [
        {
          "data": {
            "text/html": [
              "<div>\n",
              "<style scoped>\n",
              "    .dataframe tbody tr th:only-of-type {\n",
              "        vertical-align: middle;\n",
              "    }\n",
              "\n",
              "    .dataframe tbody tr th {\n",
              "        vertical-align: top;\n",
              "    }\n",
              "\n",
              "    .dataframe thead th {\n",
              "        text-align: right;\n",
              "    }\n",
              "</style>\n",
              "<table border=\"1\" class=\"dataframe\">\n",
              "  <thead>\n",
              "    <tr style=\"text-align: right;\">\n",
              "      <th></th>\n",
              "      <th>id</th>\n",
              "      <th>type</th>\n",
              "      <th>name</th>\n",
              "      <th>yearpublished</th>\n",
              "      <th>minplayers</th>\n",
              "      <th>maxplayers</th>\n",
              "      <th>playingtime</th>\n",
              "      <th>minplaytime</th>\n",
              "      <th>maxplaytime</th>\n",
              "      <th>minage</th>\n",
              "      <th>users_rated</th>\n",
              "      <th>average_rating</th>\n",
              "      <th>bayes_average_rating</th>\n",
              "      <th>total_owners</th>\n",
              "      <th>total_traders</th>\n",
              "      <th>total_wanters</th>\n",
              "      <th>total_wishers</th>\n",
              "      <th>total_comments</th>\n",
              "      <th>total_weights</th>\n",
              "      <th>average_weight</th>\n",
              "    </tr>\n",
              "  </thead>\n",
              "  <tbody>\n",
              "    <tr>\n",
              "      <th>13048</th>\n",
              "      <td>318</td>\n",
              "      <td>boardgame</td>\n",
              "      <td>Looney Leo</td>\n",
              "      <td>0.0</td>\n",
              "      <td>0.0</td>\n",
              "      <td>0.0</td>\n",
              "      <td>0.0</td>\n",
              "      <td>0.0</td>\n",
              "      <td>0.0</td>\n",
              "      <td>0.0</td>\n",
              "      <td>0</td>\n",
              "      <td>0.0</td>\n",
              "      <td>0.0</td>\n",
              "      <td>0</td>\n",
              "      <td>0</td>\n",
              "      <td>0</td>\n",
              "      <td>1</td>\n",
              "      <td>0</td>\n",
              "      <td>0</td>\n",
              "      <td>0.0</td>\n",
              "    </tr>\n",
              "    <tr>\n",
              "      <th>13054</th>\n",
              "      <td>468</td>\n",
              "      <td>boardgame</td>\n",
              "      <td>Dump</td>\n",
              "      <td>0.0</td>\n",
              "      <td>0.0</td>\n",
              "      <td>0.0</td>\n",
              "      <td>0.0</td>\n",
              "      <td>0.0</td>\n",
              "      <td>0.0</td>\n",
              "      <td>0.0</td>\n",
              "      <td>2</td>\n",
              "      <td>5.5</td>\n",
              "      <td>0.0</td>\n",
              "      <td>3</td>\n",
              "      <td>0</td>\n",
              "      <td>1</td>\n",
              "      <td>3</td>\n",
              "      <td>0</td>\n",
              "      <td>0</td>\n",
              "      <td>0.0</td>\n",
              "    </tr>\n",
              "    <tr>\n",
              "      <th>13068</th>\n",
              "      <td>579</td>\n",
              "      <td>boardgame</td>\n",
              "      <td>Field of Fire</td>\n",
              "      <td>2002.0</td>\n",
              "      <td>2.0</td>\n",
              "      <td>0.0</td>\n",
              "      <td>0.0</td>\n",
              "      <td>0.0</td>\n",
              "      <td>0.0</td>\n",
              "      <td>12.0</td>\n",
              "      <td>0</td>\n",
              "      <td>0.0</td>\n",
              "      <td>0.0</td>\n",
              "      <td>2</td>\n",
              "      <td>0</td>\n",
              "      <td>0</td>\n",
              "      <td>1</td>\n",
              "      <td>0</td>\n",
              "      <td>0</td>\n",
              "      <td>0.0</td>\n",
              "    </tr>\n",
              "    <tr>\n",
              "      <th>13095</th>\n",
              "      <td>738</td>\n",
              "      <td>boardgame</td>\n",
              "      <td>Matheeno</td>\n",
              "      <td>2000.0</td>\n",
              "      <td>2.0</td>\n",
              "      <td>2.0</td>\n",
              "      <td>20.0</td>\n",
              "      <td>20.0</td>\n",
              "      <td>20.0</td>\n",
              "      <td>9.0</td>\n",
              "      <td>1</td>\n",
              "      <td>3.0</td>\n",
              "      <td>0.0</td>\n",
              "      <td>0</td>\n",
              "      <td>0</td>\n",
              "      <td>1</td>\n",
              "      <td>1</td>\n",
              "      <td>0</td>\n",
              "      <td>0</td>\n",
              "      <td>0.0</td>\n",
              "    </tr>\n",
              "    <tr>\n",
              "      <th>13103</th>\n",
              "      <td>778</td>\n",
              "      <td>boardgame</td>\n",
              "      <td>Auction America: The Trivia Game for Any Colle...</td>\n",
              "      <td>2000.0</td>\n",
              "      <td>2.0</td>\n",
              "      <td>4.0</td>\n",
              "      <td>60.0</td>\n",
              "      <td>60.0</td>\n",
              "      <td>60.0</td>\n",
              "      <td>0.0</td>\n",
              "      <td>1</td>\n",
              "      <td>4.0</td>\n",
              "      <td>0.0</td>\n",
              "      <td>2</td>\n",
              "      <td>0</td>\n",
              "      <td>0</td>\n",
              "      <td>2</td>\n",
              "      <td>0</td>\n",
              "      <td>0</td>\n",
              "      <td>0.0</td>\n",
              "    </tr>\n",
              "    <tr>\n",
              "      <th>...</th>\n",
              "      <td>...</td>\n",
              "      <td>...</td>\n",
              "      <td>...</td>\n",
              "      <td>...</td>\n",
              "      <td>...</td>\n",
              "      <td>...</td>\n",
              "      <td>...</td>\n",
              "      <td>...</td>\n",
              "      <td>...</td>\n",
              "      <td>...</td>\n",
              "      <td>...</td>\n",
              "      <td>...</td>\n",
              "      <td>...</td>\n",
              "      <td>...</td>\n",
              "      <td>...</td>\n",
              "      <td>...</td>\n",
              "      <td>...</td>\n",
              "      <td>...</td>\n",
              "      <td>...</td>\n",
              "      <td>...</td>\n",
              "    </tr>\n",
              "    <tr>\n",
              "      <th>81307</th>\n",
              "      <td>184441</td>\n",
              "      <td>boardgameexpansion</td>\n",
              "      <td>Micro Rome: Aegyptus</td>\n",
              "      <td>2015.0</td>\n",
              "      <td>1.0</td>\n",
              "      <td>1.0</td>\n",
              "      <td>0.0</td>\n",
              "      <td>30.0</td>\n",
              "      <td>0.0</td>\n",
              "      <td>10.0</td>\n",
              "      <td>0</td>\n",
              "      <td>0.0</td>\n",
              "      <td>0.0</td>\n",
              "      <td>0</td>\n",
              "      <td>0</td>\n",
              "      <td>0</td>\n",
              "      <td>0</td>\n",
              "      <td>0</td>\n",
              "      <td>0</td>\n",
              "      <td>0.0</td>\n",
              "    </tr>\n",
              "    <tr>\n",
              "      <th>81308</th>\n",
              "      <td>184442</td>\n",
              "      <td>boardgame</td>\n",
              "      <td>Trivial Pursuit: Marvel Cinematic Universe  Da...</td>\n",
              "      <td>2013.0</td>\n",
              "      <td>2.0</td>\n",
              "      <td>0.0</td>\n",
              "      <td>0.0</td>\n",
              "      <td>0.0</td>\n",
              "      <td>0.0</td>\n",
              "      <td>12.0</td>\n",
              "      <td>0</td>\n",
              "      <td>0.0</td>\n",
              "      <td>0.0</td>\n",
              "      <td>0</td>\n",
              "      <td>0</td>\n",
              "      <td>0</td>\n",
              "      <td>0</td>\n",
              "      <td>0</td>\n",
              "      <td>0</td>\n",
              "      <td>0.0</td>\n",
              "    </tr>\n",
              "    <tr>\n",
              "      <th>81309</th>\n",
              "      <td>184443</td>\n",
              "      <td>boardgame</td>\n",
              "      <td>BEARanoia</td>\n",
              "      <td>2015.0</td>\n",
              "      <td>2.0</td>\n",
              "      <td>15.0</td>\n",
              "      <td>1.0</td>\n",
              "      <td>1.0</td>\n",
              "      <td>1.0</td>\n",
              "      <td>0.0</td>\n",
              "      <td>0</td>\n",
              "      <td>0.0</td>\n",
              "      <td>0.0</td>\n",
              "      <td>0</td>\n",
              "      <td>0</td>\n",
              "      <td>0</td>\n",
              "      <td>0</td>\n",
              "      <td>0</td>\n",
              "      <td>0</td>\n",
              "      <td>0.0</td>\n",
              "    </tr>\n",
              "    <tr>\n",
              "      <th>81310</th>\n",
              "      <td>184449</td>\n",
              "      <td>boardgame</td>\n",
              "      <td>Freight</td>\n",
              "      <td>2015.0</td>\n",
              "      <td>2.0</td>\n",
              "      <td>4.0</td>\n",
              "      <td>60.0</td>\n",
              "      <td>30.0</td>\n",
              "      <td>60.0</td>\n",
              "      <td>8.0</td>\n",
              "      <td>0</td>\n",
              "      <td>0.0</td>\n",
              "      <td>0.0</td>\n",
              "      <td>0</td>\n",
              "      <td>0</td>\n",
              "      <td>0</td>\n",
              "      <td>0</td>\n",
              "      <td>0</td>\n",
              "      <td>0</td>\n",
              "      <td>0.0</td>\n",
              "    </tr>\n",
              "    <tr>\n",
              "      <th>81311</th>\n",
              "      <td>184451</td>\n",
              "      <td>boardgame</td>\n",
              "      <td>Bingo Animal Kids</td>\n",
              "      <td>2010.0</td>\n",
              "      <td>1.0</td>\n",
              "      <td>6.0</td>\n",
              "      <td>10.0</td>\n",
              "      <td>10.0</td>\n",
              "      <td>10.0</td>\n",
              "      <td>2.0</td>\n",
              "      <td>0</td>\n",
              "      <td>0.0</td>\n",
              "      <td>0.0</td>\n",
              "      <td>0</td>\n",
              "      <td>0</td>\n",
              "      <td>0</td>\n",
              "      <td>0</td>\n",
              "      <td>0</td>\n",
              "      <td>0</td>\n",
              "      <td>0.0</td>\n",
              "    </tr>\n",
              "  </tbody>\n",
              "</table>\n",
              "<p>29001 rows × 20 columns</p>\n",
              "</div>"
            ],
            "text/plain": [
              "           id                type  \\\n",
              "13048     318           boardgame   \n",
              "13054     468           boardgame   \n",
              "13068     579           boardgame   \n",
              "13095     738           boardgame   \n",
              "13103     778           boardgame   \n",
              "...       ...                 ...   \n",
              "81307  184441  boardgameexpansion   \n",
              "81308  184442           boardgame   \n",
              "81309  184443           boardgame   \n",
              "81310  184449           boardgame   \n",
              "81311  184451           boardgame   \n",
              "\n",
              "                                                    name  yearpublished  \\\n",
              "13048                                         Looney Leo            0.0   \n",
              "13054                                               Dump            0.0   \n",
              "13068                                      Field of Fire         2002.0   \n",
              "13095                                           Matheeno         2000.0   \n",
              "13103  Auction America: The Trivia Game for Any Colle...         2000.0   \n",
              "...                                                  ...            ...   \n",
              "81307                               Micro Rome: Aegyptus         2015.0   \n",
              "81308  Trivial Pursuit: Marvel Cinematic Universe  Da...         2013.0   \n",
              "81309                                          BEARanoia         2015.0   \n",
              "81310                                            Freight         2015.0   \n",
              "81311                                  Bingo Animal Kids         2010.0   \n",
              "\n",
              "       minplayers  maxplayers  playingtime  minplaytime  maxplaytime  minage  \\\n",
              "13048         0.0         0.0          0.0          0.0          0.0     0.0   \n",
              "13054         0.0         0.0          0.0          0.0          0.0     0.0   \n",
              "13068         2.0         0.0          0.0          0.0          0.0    12.0   \n",
              "13095         2.0         2.0         20.0         20.0         20.0     9.0   \n",
              "13103         2.0         4.0         60.0         60.0         60.0     0.0   \n",
              "...           ...         ...          ...          ...          ...     ...   \n",
              "81307         1.0         1.0          0.0         30.0          0.0    10.0   \n",
              "81308         2.0         0.0          0.0          0.0          0.0    12.0   \n",
              "81309         2.0        15.0          1.0          1.0          1.0     0.0   \n",
              "81310         2.0         4.0         60.0         30.0         60.0     8.0   \n",
              "81311         1.0         6.0         10.0         10.0         10.0     2.0   \n",
              "\n",
              "       users_rated  average_rating  bayes_average_rating  total_owners  \\\n",
              "13048            0             0.0                   0.0             0   \n",
              "13054            2             5.5                   0.0             3   \n",
              "13068            0             0.0                   0.0             2   \n",
              "13095            1             3.0                   0.0             0   \n",
              "13103            1             4.0                   0.0             2   \n",
              "...            ...             ...                   ...           ...   \n",
              "81307            0             0.0                   0.0             0   \n",
              "81308            0             0.0                   0.0             0   \n",
              "81309            0             0.0                   0.0             0   \n",
              "81310            0             0.0                   0.0             0   \n",
              "81311            0             0.0                   0.0             0   \n",
              "\n",
              "       total_traders  total_wanters  total_wishers  total_comments  \\\n",
              "13048              0              0              1               0   \n",
              "13054              0              1              3               0   \n",
              "13068              0              0              1               0   \n",
              "13095              0              1              1               0   \n",
              "13103              0              0              2               0   \n",
              "...              ...            ...            ...             ...   \n",
              "81307              0              0              0               0   \n",
              "81308              0              0              0               0   \n",
              "81309              0              0              0               0   \n",
              "81310              0              0              0               0   \n",
              "81311              0              0              0               0   \n",
              "\n",
              "       total_weights  average_weight  \n",
              "13048              0             0.0  \n",
              "13054              0             0.0  \n",
              "13068              0             0.0  \n",
              "13095              0             0.0  \n",
              "13103              0             0.0  \n",
              "...              ...             ...  \n",
              "81307              0             0.0  \n",
              "81308              0             0.0  \n",
              "81309              0             0.0  \n",
              "81310              0             0.0  \n",
              "81311              0             0.0  \n",
              "\n",
              "[29001 rows x 20 columns]"
            ]
          },
          "execution_count": 17,
          "metadata": {},
          "output_type": "execute_result"
        }
      ],
      "source": [
        "games[games[\"total_comments\"]==games[\"total_comments\"].min()]    "
      ]
    },
    {
      "cell_type": "markdown",
      "metadata": {
        "colab_type": "text",
        "id": "kP0A-2EP39a5"
      },
      "source": [
        "** What was the average minage of all games per game \"type\"? (boardgame & boardgameexpansion)**"
      ]
    },
    {
      "cell_type": "code",
      "execution_count": 21,
      "metadata": {
        "colab": {},
        "colab_type": "code",
        "id": "QRganLpp39a6"
      },
      "outputs": [
        {
          "data": {
            "text/plain": [
              "type\n",
              "boardgame             6.724798\n",
              "boardgameexpansion    8.733321\n",
              "Name: minage, dtype: float64"
            ]
          },
          "execution_count": 21,
          "metadata": {},
          "output_type": "execute_result"
        }
      ],
      "source": [
        "games.groupby(\"type\").mean()[\"minage\"]"
      ]
    },
    {
      "cell_type": "markdown",
      "metadata": {
        "colab_type": "text",
        "id": "mX9uNVSB39a9"
      },
      "source": [
        "** How many unique games are there in the dataset? **"
      ]
    },
    {
      "cell_type": "code",
      "execution_count": 24,
      "metadata": {
        "colab": {},
        "colab_type": "code",
        "id": "7z1SNNVX39a-"
      },
      "outputs": [
        {
          "data": {
            "text/plain": [
              "2"
            ]
          },
          "execution_count": 24,
          "metadata": {},
          "output_type": "execute_result"
        }
      ],
      "source": [
        "games[\"type\"].nunique()"
      ]
    },
    {
      "cell_type": "markdown",
      "metadata": {
        "colab_type": "text",
        "id": "yLq2RmmY39bA"
      },
      "source": [
        "** How many boardgames and boardgameexpansions are there in the dataset?  **"
      ]
    },
    {
      "cell_type": "code",
      "execution_count": 26,
      "metadata": {
        "colab": {},
        "colab_type": "code",
        "id": "aTorLWJE39bA"
      },
      "outputs": [
        {
          "data": {
            "text/plain": [
              "boardgame             70820\n",
              "boardgameexpansion    10492\n",
              "Name: type, dtype: int64"
            ]
          },
          "execution_count": 26,
          "metadata": {},
          "output_type": "execute_result"
        }
      ],
      "source": [
        "games[\"type\"].value_counts()"
      ]
    },
    {
      "cell_type": "markdown",
      "metadata": {
        "colab_type": "text",
        "id": "eYC0ZVBF39bD"
      },
      "source": [
        "** Is there a correlation between playing time and total comments for the games? - Use the .corr() function **"
      ]
    },
    {
      "cell_type": "code",
      "execution_count": 32,
      "metadata": {
        "colab": {},
        "colab_type": "code",
        "id": "2Trn1FuW39bE"
      },
      "outputs": [
        {
          "data": {
            "text/html": [
              "<div>\n",
              "<style scoped>\n",
              "    .dataframe tbody tr th:only-of-type {\n",
              "        vertical-align: middle;\n",
              "    }\n",
              "\n",
              "    .dataframe tbody tr th {\n",
              "        vertical-align: top;\n",
              "    }\n",
              "\n",
              "    .dataframe thead th {\n",
              "        text-align: right;\n",
              "    }\n",
              "</style>\n",
              "<table border=\"1\" class=\"dataframe\">\n",
              "  <thead>\n",
              "    <tr style=\"text-align: right;\">\n",
              "      <th></th>\n",
              "      <th>playingtime</th>\n",
              "      <th>total_comments</th>\n",
              "    </tr>\n",
              "  </thead>\n",
              "  <tbody>\n",
              "    <tr>\n",
              "      <th>playingtime</th>\n",
              "      <td>1.000000</td>\n",
              "      <td>0.020645</td>\n",
              "    </tr>\n",
              "    <tr>\n",
              "      <th>total_comments</th>\n",
              "      <td>0.020645</td>\n",
              "      <td>1.000000</td>\n",
              "    </tr>\n",
              "  </tbody>\n",
              "</table>\n",
              "</div>"
            ],
            "text/plain": [
              "                playingtime  total_comments\n",
              "playingtime        1.000000        0.020645\n",
              "total_comments     0.020645        1.000000"
            ]
          },
          "execution_count": 32,
          "metadata": {},
          "output_type": "execute_result"
        }
      ],
      "source": [
        "games[[\"playingtime\",\"total_comments\"]].corr()"
      ]
    },
    {
      "cell_type": "markdown",
      "metadata": {
        "colab_type": "text",
        "id": "wI1-ePur39bH"
      },
      "source": [
        "## Part 2\n",
        "## Inferential Statistical Analysis\n",
        "\n",
        "A Brand new Gaming Design Company has entered the Market in year 2015. They are interested in Analyzing the Amount of Time Gamers spend for each Game Type and check if the players spend equal Time on both Types.\n",
        "\n",
        "Analyze the same using a suitable Two Sample Test at 95% Confidence.\n",
        "\n",
        "The following points are necessarily to be adhered.\n",
        "\n",
        "  - Clean Data\n",
        "  - Transform Data(as required)\n",
        "  - Visualize Data(Draw as many patterns, not limited to Histograms & Boxplots only) - Minimum Requirement of 5 different Visualizations apart from Histograms & Boxplots to be created.\n",
        "  - Model the Data with the correct hypothesis statement\n",
        "  - Conclude on your results based on the outcome of experiment\n",
        "  - Calculate power of test and interpret the same\n",
        "  \n",
        " "
      ]
    },
    {
      "cell_type": "markdown",
      "metadata": {
        "colab_type": "text",
        "id": "cpz0KHUR39bI"
      },
      "source": [
        "### The END"
      ]
    }
  ],
  "metadata": {
    "colab": {
      "name": "Pandas Lab Exercise (Kaggle Games Dataset).ipynb",
      "provenance": [],
      "version": "0.3.2"
    },
    "kernelspec": {
      "display_name": "Python 3.9.7 ('base')",
      "language": "python",
      "name": "python3"
    },
    "language_info": {
      "codemirror_mode": {
        "name": "ipython",
        "version": 3
      },
      "file_extension": ".py",
      "mimetype": "text/x-python",
      "name": "python",
      "nbconvert_exporter": "python",
      "pygments_lexer": "ipython3",
      "version": "3.9.7"
    },
    "vscode": {
      "interpreter": {
        "hash": "edbc326dca4d45d099b392cc63eba5b9968b75626d87c8320b877a0e93d32b6c"
      }
    }
  },
  "nbformat": 4,
  "nbformat_minor": 0
}
